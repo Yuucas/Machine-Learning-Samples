{
 "cells": [
  {
   "cell_type": "markdown",
   "metadata": {},
   "source": [
    "# Clothes Classification with Support Vector Machines"
   ]
  },
  {
   "cell_type": "markdown",
   "metadata": {},
   "source": [
    "Support Vector Machines (SVM) is used for image classification. A new version of the famous MNIST dataset is called Fashion MNIST (https://pravarmahajan.github.io/fashion/) and is a dataset of small images of clothes and accessories."
   ]
  },
  {
   "cell_type": "code",
   "execution_count": 12,
   "metadata": {},
   "outputs": [],
   "source": [
    "%matplotlib inline  \n",
    "\n",
    "import numpy as np\n",
    "import scipy as sp\n",
    "import matplotlib.pyplot as plt\n",
    "\n",
    "from sklearn.svm import SVC\n",
    "from sklearn.model_selection import GridSearchCV\n",
    "import sklearn\n",
    "from sklearn.datasets import fetch_openml\n",
    "from sklearn.neural_network import MLPClassifier\n",
    "import sklearn.metrics as skm"
   ]
  },
  {
   "cell_type": "code",
   "execution_count": 6,
   "metadata": {},
   "outputs": [],
   "source": [
    "def load_mnist(path, kind='train'):\n",
    "    import os\n",
    "    import gzip\n",
    "    import numpy as np\n",
    "    labels_path = os.path.join(path, '%s-labels-idx1-ubyte.gz' % kind)\n",
    "    images_path = os.path.join(path, '%s-images-idx3-ubyte.gz' % kind)\n",
    "    with gzip.open(labels_path, 'rb') as lbpath:\n",
    "        labels = np.frombuffer(lbpath.read(), dtype=np.uint8,offset=8)\n",
    "    with gzip.open(images_path, 'rb') as imgpath:\n",
    "        images = np.frombuffer(imgpath.read(), dtype=np.uint8,offset=16).reshape(len(labels), 784)\n",
    "    return images, labels"
   ]
  },
  {
   "cell_type": "code",
   "execution_count": 7,
   "metadata": {},
   "outputs": [
    {
     "name": "stdout",
     "output_type": "stream",
     "text": [
      "(60000, 784) (60000,)\n"
     ]
    }
   ],
   "source": [
    "X, y = load_mnist('data', kind='train')\n",
    "# rescale the data\n",
    "X, y = X / 255., y # original pixel values are between 0 and 255\n",
    "print(X.shape, y.shape)"
   ]
  },
  {
   "cell_type": "code",
   "execution_count": 8,
   "metadata": {},
   "outputs": [
    {
     "name": "stdout",
     "output_type": "stream",
     "text": [
      "Labels in training dataset:  [0 1 2 3 4 5 6 7 8 9]\n",
      "Frequencies in training dataset:  [39 47 47 57 51 53 51 58 47 50]\n"
     ]
    }
   ],
   "source": [
    "np.random.seed(348653)\n",
    "\n",
    "permutation = np.random.permutation(X.shape[0])\n",
    "\n",
    "X = X[permutation]\n",
    "y = y[permutation]\n",
    "\n",
    "m_training = 500\n",
    "\n",
    "X_train, X_test = X[:m_training], X[m_training:]\n",
    "y_train, y_test = y[:m_training], y[m_training:]\n",
    "\n",
    "labels, freqs = np.unique(y_train, return_counts=True)\n",
    "print(\"Labels in training dataset: \", labels)\n",
    "print(\"Frequencies in training dataset: \", freqs)"
   ]
  },
  {
   "cell_type": "code",
   "execution_count": 9,
   "metadata": {},
   "outputs": [],
   "source": [
    "#function for plotting a image and printing the corresponding label\n",
    "def plot_input(X_matrix, labels, index):\n",
    "    print(\"INPUT:\")\n",
    "    plt.imshow(\n",
    "        X_matrix[index].reshape(28,28),\n",
    "        cmap          = plt.cm.gray_r,\n",
    "        interpolation = \"nearest\"\n",
    "    )\n",
    "    plt.show()\n",
    "    print(\"LABEL: %i\"%labels[index])\n",
    "    return"
   ]
  },
  {
   "cell_type": "code",
   "execution_count": 10,
   "metadata": {},
   "outputs": [
    {
     "name": "stdout",
     "output_type": "stream",
     "text": [
      "INPUT:\n"
     ]
    },
    {
     "data": {
      "image/png": "[encoded data removed]",
      "text/plain": [
       "<Figure size 432x288 with 1 Axes>"
      ]
     },
     "metadata": {
      "needs_background": "light"
     },
     "output_type": "display_data"
    },
    {
     "name": "stdout",
     "output_type": "stream",
     "text": [
      "LABEL: 1\n",
      "INPUT:\n"
     ]
    },
    {
     "data": {
      "image/png": "[encoded data removed]",
      "text/plain": [
       "<Figure size 432x288 with 1 Axes>"
      ]
     },
     "metadata": {
      "needs_background": "light"
     },
     "output_type": "display_data"
    },
    {
     "name": "stdout",
     "output_type": "stream",
     "text": [
      "LABEL: 0\n",
      "INPUT:\n"
     ]
    },
    {
     "data": {
      "image/png": "[encoded data removed]",
      "text/plain": [
       "<Figure size 432x288 with 1 Axes>"
      ]
     },
     "metadata": {
      "needs_background": "light"
     },
     "output_type": "display_data"
    },
    {
     "name": "stdout",
     "output_type": "stream",
     "text": [
      "LABEL: 0\n",
      "INPUT:\n"
     ]
    },
    {
     "data": {
      "image/png": "[encoded data removed]",
      "text/plain": [
       "<Figure size 432x288 with 1 Axes>"
      ]
     },
     "metadata": {
      "needs_background": "light"
     },
     "output_type": "display_data"
    },
    {
     "name": "stdout",
     "output_type": "stream",
     "text": [
      "LABEL: 9\n"
     ]
    }
   ],
   "source": [
    "plot_input(X_train,y_train,5)\n",
    "plot_input(X_test,y_test,50)\n",
    "plot_input(X_test,y_test,500)\n",
    "plot_input(X_test,y_test,5000)"
   ]
  },
  {
   "cell_type": "code",
   "execution_count": 13,
   "metadata": {},
   "outputs": [
    {
     "name": "stdout",
     "output_type": "stream",
     "text": [
      "RESULTS FOR LINEAR KERNEL\n",
      "Best parameters set found: {'C': 50}\n",
      "Score with best parameters: 0.772\n",
      "\n",
      "All scores on the grid: 0.158 (+/-0.110) for {'C': 0.0005}\n",
      "\n",
      "All scores on the grid: 0.158 (+/-0.110) for {'C': 0.005}\n",
      "\n",
      "All scores on the grid: 0.158 (+/-0.110) for {'C': 0.05}\n",
      "\n",
      "All scores on the grid: 0.564 (+/-0.065) for {'C': 0.5}\n",
      "\n",
      "All scores on the grid: 0.756 (+/-0.057) for {'C': 5}\n",
      "\n",
      "All scores on the grid: 0.772 (+/-0.048) for {'C': 50}\n",
      "\n",
      "All scores on the grid: 0.768 (+/-0.053) for {'C': 500}\n"
     ]
    }
   ],
   "source": [
    "# parameters for linear SVM\n",
    "parameters = {'C': [0.0005, 0.005, 0.05, 0.5, 5, 50, 500]}\n",
    "\n",
    "svc = SVC(gamma='auto')\n",
    "clf = GridSearchCV(svc, parameters)\n",
    "clf.fit(X_train, y_train)\n",
    "\n",
    "print ('RESULTS FOR LINEAR KERNEL')\n",
    "print(\"Best parameters set found:\", clf.best_params_)\n",
    "print(\"Score with best parameters:\", clf.best_score_)\n",
    "\n",
    "means = clf.cv_results_['mean_test_score']\n",
    "standards = clf.cv_results_['std_test_score']\n",
    "for mean, std, params in zip(means, standards, clf.cv_results_['params']):\n",
    "    print(\"\\nAll scores on the grid:\", \"%0.3f (+/-%0.03f) for %r\"\n",
    "         % (mean, std * 2, params))"
   ]
  },
  {
   "cell_type": "code",
   "execution_count": 14,
   "metadata": {},
   "outputs": [
    {
     "name": "stdout",
     "output_type": "stream",
     "text": [
      "RESULTS FOR POLY DEGREE=2 KERNEL\n",
      "Best parameters set found: {'C': 5, 'gamma': 0.05}\n",
      "Score with best parameters: 0.756\n",
      "\n",
      "All scores on the grid: 0.160 (+/-0.115) for {'C': 0.05, 'gamma': 0.05}\n",
      "\n",
      "All scores on the grid: 0.118 (+/-0.015) for {'C': 0.05, 'gamma': 0.5}\n",
      "\n",
      "All scores on the grid: 0.160 (+/-0.115) for {'C': 0.05, 'gamma': 5.0}\n",
      "\n",
      "All scores on the grid: 0.678 (+/-0.092) for {'C': 0.5, 'gamma': 0.05}\n",
      "\n",
      "All scores on the grid: 0.118 (+/-0.015) for {'C': 0.5, 'gamma': 0.5}\n",
      "\n",
      "All scores on the grid: 0.160 (+/-0.115) for {'C': 0.5, 'gamma': 5.0}\n",
      "\n",
      "All scores on the grid: 0.756 (+/-0.047) for {'C': 5, 'gamma': 0.05}\n",
      "\n",
      "All scores on the grid: 0.124 (+/-0.027) for {'C': 5, 'gamma': 0.5}\n",
      "\n",
      "All scores on the grid: 0.112 (+/-0.008) for {'C': 5, 'gamma': 5.0}\n"
     ]
    }
   ],
   "source": [
    "# parameters for poly with degree 2 kernel\n",
    "parameters = {'C': [0.05, 0.5, 5],'gamma':[0.05,0.5,5.]}\n",
    "\n",
    "svc = SVC(degree=2)\n",
    "clf = GridSearchCV(svc, parameters)\n",
    "clf.fit(X_train, y_train)\n",
    "\n",
    "print ('RESULTS FOR POLY DEGREE=2 KERNEL')\n",
    "print(\"Best parameters set found:\", clf.best_params_)\n",
    "print(\"Score with best parameters:\", clf.best_score_)\n",
    "\n",
    "means = clf.cv_results_['mean_test_score']\n",
    "standards = clf.cv_results_['std_test_score']\n",
    "for mean, std, params in zip(means, standards, clf.cv_results_['params']):\n",
    "    print(\"\\nAll scores on the grid:\", \"%0.3f (+/-%0.03f) for %r\"\n",
    "         % (mean, std * 2, params))"
   ]
  },
  {
   "cell_type": "code",
   "execution_count": 15,
   "metadata": {},
   "outputs": [
    {
     "name": "stdout",
     "output_type": "stream",
     "text": [
      "RESULTS FOR POLY DEGREE= 3  KERNEL\n",
      "Best parameters set found: {'C': 5, 'gamma': 0.05}\n",
      "Score with best parameters: 0.756\n",
      "\n",
      "All scores on the grid: 0.160 (+/-0.115) for {'C': 0.05, 'gamma': 0.05}\n",
      "\n",
      "All scores on the grid: 0.118 (+/-0.015) for {'C': 0.05, 'gamma': 0.5}\n",
      "\n",
      "All scores on the grid: 0.160 (+/-0.115) for {'C': 0.05, 'gamma': 5.0}\n",
      "\n",
      "All scores on the grid: 0.678 (+/-0.092) for {'C': 0.5, 'gamma': 0.05}\n",
      "\n",
      "All scores on the grid: 0.118 (+/-0.015) for {'C': 0.5, 'gamma': 0.5}\n",
      "\n",
      "All scores on the grid: 0.160 (+/-0.115) for {'C': 0.5, 'gamma': 5.0}\n",
      "\n",
      "All scores on the grid: 0.756 (+/-0.047) for {'C': 5, 'gamma': 0.05}\n",
      "\n",
      "All scores on the grid: 0.124 (+/-0.027) for {'C': 5, 'gamma': 0.5}\n",
      "\n",
      "All scores on the grid: 0.112 (+/-0.008) for {'C': 5, 'gamma': 5.0}\n"
     ]
    }
   ],
   "source": [
    "# parameters for poly with higher degree kernel\n",
    "parameters = {'C': [0.05, 0.5, 5],'gamma':[0.05,0.5,5.]}\n",
    "\n",
    "degree = 3\n",
    "svc = SVC(degree = 3)\n",
    "clf = GridSearchCV(svc, parameters)\n",
    "clf.fit(X_train, y_train)\n",
    "\n",
    "print ('RESULTS FOR POLY DEGREE=', degree, ' KERNEL')\n",
    "print(\"Best parameters set found:\", clf.best_params_)\n",
    "print(\"Score with best parameters:\", clf.best_score_)\n",
    "\n",
    "means = clf.cv_results_['mean_test_score']\n",
    "standards = clf.cv_results_['std_test_score']\n",
    "for mean, std, params in zip(means, standards, clf.cv_results_['params']):\n",
    "    print(\"\\nAll scores on the grid:\", \"%0.3f (+/-%0.03f) for %r\"\n",
    "         % (mean, std * 2, params))"
   ]
  },
  {
   "cell_type": "code",
   "execution_count": 16,
   "metadata": {},
   "outputs": [
    {
     "name": "stdout",
     "output_type": "stream",
     "text": [
      "RESULTS FOR rbf KERNEL\n",
      "Best parameters set found: {'C': 5, 'gamma': 0.005}\n",
      "Score with best parameters: 0.784\n",
      "\n",
      "All scores on the grid: 0.712 (+/-0.078) for {'C': 0.5, 'gamma': 0.005}\n",
      "\n",
      "All scores on the grid: 0.678 (+/-0.092) for {'C': 0.5, 'gamma': 0.05}\n",
      "\n",
      "All scores on the grid: 0.118 (+/-0.015) for {'C': 0.5, 'gamma': 0.5}\n",
      "\n",
      "All scores on the grid: 0.160 (+/-0.115) for {'C': 0.5, 'gamma': 5}\n",
      "\n",
      "All scores on the grid: 0.784 (+/-0.035) for {'C': 5, 'gamma': 0.005}\n",
      "\n",
      "All scores on the grid: 0.756 (+/-0.047) for {'C': 5, 'gamma': 0.05}\n",
      "\n",
      "All scores on the grid: 0.124 (+/-0.027) for {'C': 5, 'gamma': 0.5}\n",
      "\n",
      "All scores on the grid: 0.112 (+/-0.008) for {'C': 5, 'gamma': 5}\n",
      "\n",
      "All scores on the grid: 0.768 (+/-0.045) for {'C': 50, 'gamma': 0.005}\n",
      "\n",
      "All scores on the grid: 0.756 (+/-0.047) for {'C': 50, 'gamma': 0.05}\n",
      "\n",
      "All scores on the grid: 0.124 (+/-0.027) for {'C': 50, 'gamma': 0.5}\n",
      "\n",
      "All scores on the grid: 0.112 (+/-0.008) for {'C': 50, 'gamma': 5}\n",
      "\n",
      "All scores on the grid: 0.768 (+/-0.045) for {'C': 500, 'gamma': 0.005}\n",
      "\n",
      "All scores on the grid: 0.756 (+/-0.047) for {'C': 500, 'gamma': 0.05}\n",
      "\n",
      "All scores on the grid: 0.124 (+/-0.027) for {'C': 500, 'gamma': 0.5}\n",
      "\n",
      "All scores on the grid: 0.112 (+/-0.008) for {'C': 500, 'gamma': 5}\n"
     ]
    }
   ],
   "source": [
    "# parameters for rbf SVM\n",
    "parameters = {'C': [0.5, 5, 50, 500],'gamma':[0.005, 0.05, 0.5,5]}\n",
    "\n",
    "svc = SVC(kernel='rbf')\n",
    "clf = GridSearchCV(svc, parameters)\n",
    "clf.fit(X_train, y_train)\n",
    " \n",
    "print ('RESULTS FOR rbf KERNEL')\n",
    "print(\"Best parameters set found:\", clf.best_params_)\n",
    "print(\"Score with best parameters:\", clf.best_score_)\n",
    "\n",
    "means = clf.cv_results_['mean_test_score']\n",
    "standards = clf.cv_results_['std_test_score']\n",
    "for mean, std, params in zip(means, standards, clf.cv_results_['params']):\n",
    "    print(\"\\nAll scores on the grid:\", \"%0.3f (+/-%0.03f) for %r\"\n",
    "         % (mean, std * 2, params))"
   ]
  },
  {
   "cell_type": "markdown",
   "metadata": {},
   "source": [
    "Observation: Polynomial kernels is less time consuming and provides less accuracy than the Radial Basis Function. Rbf is doing this with using lower gamma. Most of grid scores of the rbf is higher than polynomial kernels."
   ]
  },
  {
   "cell_type": "code",
   "execution_count": 17,
   "metadata": {},
   "outputs": [
    {
     "name": "stdout",
     "output_type": "stream",
     "text": [
      "Best SVM training error: 0.070000\n",
      "Best SVM test error: 0.212908\n"
     ]
    }
   ],
   "source": [
    "# training and test error for the best SVM model from CV\n",
    "parameters = {'C': [5],'gamma':[0.005]}\n",
    "\n",
    "svc = SVC(kernel='rbf')\n",
    "clf = GridSearchCV(svc, parameters)\n",
    "best_SVM = clf.fit(X_train, y_train)\n",
    "\n",
    "training_error = 1. - best_SVM.score(X_train,y_train)\n",
    "test_error = 1. - best_SVM.score(X_test,y_test)\n",
    "\n",
    "print (\"Best SVM training error: %f\" % training_error)\n",
    "print (\"Best SVM test error: %f\" % test_error)"
   ]
  },
  {
   "cell_type": "code",
   "execution_count": null,
   "metadata": {},
   "outputs": [],
   "source": []
  }
 ],
 "metadata": {
  "kernelspec": {
   "display_name": "Python 3",
   "language": "python",
   "name": "python3"
  },
  "language_info": {
   "codemirror_mode": {
    "name": "ipython",
    "version": 3
   },
   "file_extension": ".py",
   "mimetype": "text/x-python",
   "name": "python",
   "nbconvert_exporter": "python",
   "pygments_lexer": "ipython3",
   "version": "3.8.3"
  }
 },
 "nbformat": 4,
 "nbformat_minor": 4
}
